{
 "cells": [
  {
   "cell_type": "code",
   "execution_count": 1,
   "id": "12a9838f",
   "metadata": {},
   "outputs": [],
   "source": [
    "import pandas as pd\n",
    "from sklearn.feature_selection import SelectKBest, f_classif\n",
    "from sklearn.ensemble import RandomForestClassifier\n",
    "from sklearn.model_selection import train_test_split\n",
    "from sklearn.preprocessing import StandardScaler\n",
    "from sklearn.metrics import accuracy_score, classification_report, confusion_matrix\n",
    "from imblearn.over_sampling import SMOTE\n",
    "import pickle\n",
    "\n",
    "# Load dataset\n",
    "dataset = pd.read_csv(\"cleaned_df_luxottica_churn_updated_0108.csv\")\n",
    "\n",
    "# Create dummy variables\n",
    "df = pd.get_dummies(dataset, drop_first=True)\n",
    "\n",
    "# Define the target variable and features\n",
    "X = df.drop('Churn_Yes', axis=1)  # Assuming 'Churn_Yes' is the target variable\n",
    "y = df['Churn_Yes']"
   ]
  },
  {
   "cell_type": "code",
   "execution_count": 8,
   "id": "80ff6385",
   "metadata": {},
   "outputs": [
    {
     "data": {
      "text/plain": [
       "(95102, 3311)"
      ]
     },
     "execution_count": 8,
     "metadata": {},
     "output_type": "execute_result"
    }
   ],
   "source": [
    "df.shape"
   ]
  },
  {
   "cell_type": "code",
   "execution_count": 4,
   "id": "89faacbb",
   "metadata": {},
   "outputs": [
    {
     "name": "stdout",
     "output_type": "stream",
     "text": [
      "Selected Feature Indices:\n",
      " [   0    3    5    6   10   11   13 3299 3300 3301]\n",
      "Selected Features:\n",
      " Index(['Age', 'Customer_Support_Interactions', 'Customer_Satisfaction',\n",
      "       'Purchase_Frequency', 'Lifetime_Value', 'Average_Order_Value',\n",
      "       'Number_of_Product_Categories_Purchased',\n",
      "       'Loyalty_Program_Participation_Inactive',\n",
      "       'Engagement_with_Promotions_Low', 'Engagement_with_Promotions_Medium'],\n",
      "      dtype='object')\n"
     ]
    }
   ],
   "source": [
    "import pandas as pd\n",
    "from sklearn.ensemble import RandomForestClassifier\n",
    "from sklearn.feature_selection import SelectKBest, f_classif\n",
    "from sklearn.model_selection import train_test_split\n",
    "from sklearn.preprocessing import StandardScaler\n",
    "from sklearn.metrics import accuracy_score, classification_report, confusion_matrix\n",
    "import pickle\n",
    "\n",
    "# Load the dataset\n",
    "dataset = pd.read_csv(\"cleaned_df_luxottica_churn_updated_0108.csv\", index_col=None)\n",
    "\n",
    "# Create a copy of the dataset for transformation\n",
    "dataset_transformed = pd.get_dummies(dataset, drop_first=True)\n",
    "\n",
    "# Separate features and target variable\n",
    "X = dataset_transformed.drop('Churn_Yes', axis=1)\n",
    "y = dataset_transformed['Churn_Yes']\n",
    "\n",
    "# Initialize the SelectKBest with f_classif\n",
    "select_k_best = SelectKBest(score_func=f_classif, k=10)\n",
    "X_selected = select_k_best.fit_transform(X, y)\n",
    "\n",
    "# Get the selected feature indices and names\n",
    "selected_features_indices = select_k_best.get_support(indices=True)\n",
    "selected_features = X.columns[selected_features_indices]\n",
    "print(\"Selected Feature Indices:\\n\", selected_features_indices)\n",
    "print(\"Selected Features:\\n\", selected_features)"
   ]
  },
  {
   "cell_type": "code",
   "execution_count": 5,
   "id": "1aef8855",
   "metadata": {},
   "outputs": [
    {
     "name": "stdout",
     "output_type": "stream",
     "text": [
      "(95102, 10) (95102, 3310)\n",
      "Confusion Matrix:\n",
      " [[17143    44]\n",
      " [    0  6589]]\n",
      "Accuracy: 0.9981493943472409\n",
      "Classification Report:\n",
      "               precision    recall  f1-score   support\n",
      "\n",
      "           0       1.00      1.00      1.00     17187\n",
      "           1       0.99      1.00      1.00      6589\n",
      "\n",
      "    accuracy                           1.00     23776\n",
      "   macro avg       1.00      1.00      1.00     23776\n",
      "weighted avg       1.00      1.00      1.00     23776\n",
      "\n"
     ]
    }
   ],
   "source": [
    "# Create the final feature and target datasets\n",
    "X_final = X[selected_features]\n",
    "y_final = y\n",
    "\n",
    "print(X_final.shape, X.shape)\n",
    "\n",
    "# Split the dataset into training and testing sets\n",
    "X_train, X_test, y_train, y_test = train_test_split(X_final, y_final, test_size=0.25, random_state=0)\n",
    "\n",
    "# Standardize the features\n",
    "scaler = StandardScaler()\n",
    "X_train = scaler.fit_transform(X_train)\n",
    "X_test = scaler.transform(X_test)\n",
    "\n",
    "# Initialize and train the Random Forest classifier\n",
    "classifier = RandomForestClassifier(random_state=0)\n",
    "classifier.fit(X_train, y_train)\n",
    "\n",
    "# Predict the test set results\n",
    "y_pred = classifier.predict(X_test)\n",
    "\n",
    "# Evaluate the model\n",
    "conf_matrix = confusion_matrix(y_test, y_pred)\n",
    "accuracy = accuracy_score(y_test, y_pred)\n",
    "class_report = classification_report(y_test, y_pred)\n",
    "\n",
    "# Display the results\n",
    "print(\"Confusion Matrix:\\n\", conf_matrix)\n",
    "print(\"Accuracy:\", accuracy)\n",
    "print(\"Classification Report:\\n\", class_report)"
   ]
  },
  {
   "cell_type": "code",
   "execution_count": 9,
   "id": "0b5f9117",
   "metadata": {},
   "outputs": [
    {
     "name": "stdout",
     "output_type": "stream",
     "text": [
      "Prediction result: [1]\n"
     ]
    },
    {
     "name": "stderr",
     "output_type": "stream",
     "text": [
      "C:\\Users\\AB92922\\anaconda3\\lib\\site-packages\\sklearn\\base.py:464: UserWarning: X does not have valid feature names, but StandardScaler was fitted with feature names\n",
      "  warnings.warn(\n"
     ]
    }
   ],
   "source": [
    "\n",
    "# Save the trained model to a file\n",
    "model_filename = \"finalized_model_random_forest_luxottica.sav\"\n",
    "pickle.dump(classifier, open(model_filename, 'wb'))\n",
    "\n",
    "# Example input for prediction (use scaled values)\n",
    "example_input_unscaled = [[44, 2, 0.45, 4, 1200, 240.6, 1, 1, 1, 1]]  # Replace with actual values\n",
    "example_input = scaler.transform(example_input_unscaled)\n",
    "\n",
    "# Load the saved model and make a prediction\n",
    "loaded_model = pickle.load(open(model_filename, 'rb'))\n",
    "prediction_result = loaded_model.predict(example_input)\n",
    "prediction_result = prediction_result.astype(int)\n",
    "\n",
    "print(\"Prediction result:\", prediction_result)"
   ]
  },
  {
   "cell_type": "code",
   "execution_count": null,
   "id": "68e73714",
   "metadata": {},
   "outputs": [],
   "source": []
  }
 ],
 "metadata": {
  "kernelspec": {
   "display_name": "Python 3 (ipykernel)",
   "language": "python",
   "name": "python3"
  },
  "language_info": {
   "codemirror_mode": {
    "name": "ipython",
    "version": 3
   },
   "file_extension": ".py",
   "mimetype": "text/x-python",
   "name": "python",
   "nbconvert_exporter": "python",
   "pygments_lexer": "ipython3",
   "version": "3.9.13"
  }
 },
 "nbformat": 4,
 "nbformat_minor": 5
}
